{
 "cells": [
  {
   "cell_type": "code",
   "execution_count": null,
   "id": "86da3310",
   "metadata": {},
   "outputs": [],
   "source": [
    "import re"
   ]
  },
  {
   "cell_type": "code",
   "execution_count": null,
   "id": "8af23852",
   "metadata": {},
   "outputs": [],
   "source": [
    "def is_valid_english_word(word):\n",
    "    pattern = r'^[a-z][a-z]*$'\n",
    "\n",
    "    if re.fullmatch(pattern, word):\n",
    "        return \"Accepted\"\n",
    "    else:\n",
    "        return \"Not Accepted\""
   ]
  },
  {
   "cell_type": "code",
   "execution_count": null,
   "id": "3d37d03d",
   "metadata": {},
   "outputs": [],
   "source": [
    "user_input = input(\"Enter a word: \").strip()\n",
    "result = is_valid_english_word(user_input)\n",
    "print(f\"{user_input} --> {result}\")"
   ]
  }
 ],
 "metadata": {
  "language_info": {
   "name": "python"
  }
 },
 "nbformat": 4,
 "nbformat_minor": 5
}
