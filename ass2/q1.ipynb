{
 "cells": [
  {
   "cell_type": "code",
   "execution_count": 1,
   "id": "eaf00534",
   "metadata": {},
   "outputs": [],
   "source": [
    "from automathon import DFA\n",
    "import re\n"
   ]
  },
  {
   "cell_type": "code",
   "execution_count": null,
   "id": "17160c4b",
   "metadata": {},
   "outputs": [],
   "source": [
    "states = {'q0', 'q1', 'q_dead'}\n",
    "\n",
    "transition_function = {}\n",
    "\n",
    "transition_function[('q0', '[a-z]')] = 'q1'\n",
    "\n",
    "transition_function[('q1', '[a-z]')] = 'q1'\n",
    "\n",
    "transition_function[('q0', '.*')] = 'q_dead'\n",
    "transition_function[('q1', '.*')] = 'q_dead'\n",
    "\n",
    "transition_function[('q_dead', '.*')] = 'q_dead'"
   ]
  },
  {
   "cell_type": "code",
   "execution_count": 3,
   "id": "16da0412",
   "metadata": {},
   "outputs": [
    {
     "name": "stdout",
     "output_type": "stream",
     "text": [
      "driti --> Accepted\n"
     ]
    }
   ],
   "source": [
    "def dfa_with_regex(word):\n",
    "    state = 'q0'\n",
    "    for ch in word:\n",
    "        moved = False\n",
    "        for (current_state, pattern), next_state in transition_function.items():\n",
    "            if current_state == state and re.fullmatch(pattern, ch):\n",
    "                state = next_state\n",
    "                moved = True\n",
    "                break\n",
    "        if not moved:\n",
    "            state = 'q_dead'\n",
    "            break\n",
    "    return \"Accepted\" if state == 'q1' else \"Not Accepted\"\n",
    "\n",
    "# Example usage\n",
    "user_input = input(\"Enter a word: \").strip()\n",
    "print(f\"{user_input} --> {dfa_with_regex(user_input)}\")"
   ]
  }
 ],
 "metadata": {
  "kernelspec": {
   "display_name": "Python 3",
   "language": "python",
   "name": "python3"
  },
  "language_info": {
   "codemirror_mode": {
    "name": "ipython",
    "version": 3
   },
   "file_extension": ".py",
   "mimetype": "text/x-python",
   "name": "python",
   "nbconvert_exporter": "python",
   "pygments_lexer": "ipython3",
   "version": "3.13.2"
  }
 },
 "nbformat": 4,
 "nbformat_minor": 5
}
